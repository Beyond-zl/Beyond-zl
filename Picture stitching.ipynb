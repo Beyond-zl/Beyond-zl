{
 "cells": [
  {
   "cell_type": "code",
   "execution_count": 12,
   "id": "b8b036d7",
   "metadata": {},
   "outputs": [
    {
     "name": "stdout",
     "output_type": "stream",
     "text": [
      "1200\n",
      "800\n",
      "396\n",
      "799\n",
      "26.123138189315796\n"
     ]
    }
   ],
   "source": [
    "import cv2\n",
    "import numpy as np\n",
    "from matplotlib import pyplot as plt\n",
    "import time\n",
    "def show(name,img):\n",
    "    cv2.imshow(name, img)\n",
    "    cv2.waitKey(0)\n",
    "    cv2.destroyAllWindows()\n",
    "MIN = 10\n",
    "FLANN_INDEX_KDTREE = 0\n",
    "starttime = time.time()\n",
    "img1 = cv2.imread(\"E:/data/left1.jpg\") #query\n",
    "img2 = cv2.imread(\"E:/data/right1.jpg\") #train\n",
    "imageA = cv2.resize(img1,(0,0),fx=0.2,fy=0.4)\n",
    "imageB = cv2.resize(img2,(0,0),fx=0.2,fy=0.4)\n",
    "surf=cv2.xfeatures2d.SIFT_create()#可以改为SIFT\n",
    "sift = cv2.SIFT_create()\n",
    "kp1,descrip1 = sift.detectAndCompute(imageA,None)\n",
    "kp2,descrip2 = sift.detectAndCompute(imageB,None)\n",
    "#创建字典\n",
    "indexParams = dict(algorithm = FLANN_INDEX_KDTREE, trees = 5)\n",
    "searchParams = dict(checks=50)\n",
    "flann=cv2.FlannBasedMatcher(indexParams,searchParams)\n",
    "match=flann.knnMatch(descrip1,descrip2,k=2)\n",
    "good=[]\n",
    "#过滤特征点\n",
    "for i,(m,n) in enumerate(match):\n",
    "    if(m.distance<0.75*n.distance):\n",
    "        good.append(m)\n",
    "\n",
    "# 当筛选后的匹配对大于10时，计算视角变换矩阵\n",
    "if len(good) > MIN:\n",
    "    src_pts = np.float32([kp1[m.queryIdx].pt for m in good]).reshape(-1,1,2)\n",
    "    ano_pts = np.float32([kp2[m.trainIdx].pt for m in good]).reshape(-1,1,2)\n",
    "    M,mask = cv2.findHomography(src_pts,ano_pts,cv2.RANSAC,5.0)\n",
    "    warpImg = cv2.warpPerspective(imageB, np.linalg.inv(M), (imageA.shape[1]+imageB.shape[1], imageB.shape[0]))\n",
    "    direct=warpImg.copy()\n",
    "    direct[0:imageA.shape[0], 0:imageB.shape[1]] =imageA\n",
    "    simple=time.time()\n",
    "\n",
    "# show('res',warpImg)\n",
    "rows,cols=imageA.shape[:2]\n",
    "print(rows)\n",
    "print(cols)\n",
    "for col in range(0,cols):\n",
    "    # 开始重叠的最左端\n",
    "    if imageA[:, col].any() and warpImg[:, col].any():\n",
    "        left = col\n",
    "        print(left)\n",
    "        break\n",
    "\n",
    "for col in range(cols-1, 0, -1):\n",
    "    #重叠的最右一列\n",
    "    if imageA[:, col].any() and warpImg[:, col].any():\n",
    "        right = col\n",
    "        print(right)\n",
    "        break\n",
    "#加权处理\n",
    "res = np.zeros([rows, cols, 3], np.uint8)\n",
    "for row in range(0, rows):\n",
    "    for col in range(0, cols):\n",
    "        if not imageA[row, col].any():  # 如果没有原图，用旋转的填充\n",
    "            res[row, col] = warpImg[row, col]\n",
    "        elif not warpImg[row, col].any():\n",
    "            res[row, col] = imageA[row, col]\n",
    "        else:\n",
    "            srcImgLen = float(abs(col - left))\n",
    "            testImgLen = float(abs(col - right))\n",
    "            alpha = srcImgLen / (srcImgLen + testImgLen)\n",
    "            res[row, col] = np.clip(imageA[row, col] * (1 - alpha) + warpImg[row, col] * alpha, 0, 255)\n",
    "\n",
    "warpImg[0:imageA.shape[0], 0:imageA.shape[1]]=res\n",
    "show('res',warpImg)\n",
    "final=time.time()\n",
    "print(final-starttime)"
   ]
  },
  {
   "cell_type": "code",
   "execution_count": null,
   "id": "fdfa0e70",
   "metadata": {},
   "outputs": [],
   "source": []
  }
 ],
 "metadata": {
  "kernelspec": {
   "display_name": "Python 3 (ipykernel)",
   "language": "python",
   "name": "python3"
  },
  "language_info": {
   "codemirror_mode": {
    "name": "ipython",
    "version": 3
   },
   "file_extension": ".py",
   "mimetype": "text/x-python",
   "name": "python",
   "nbconvert_exporter": "python",
   "pygments_lexer": "ipython3",
   "version": "3.11.4"
  }
 },
 "nbformat": 4,
 "nbformat_minor": 5
}
