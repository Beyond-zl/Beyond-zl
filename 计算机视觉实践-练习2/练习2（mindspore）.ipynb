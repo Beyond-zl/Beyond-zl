{
 "cells": [
  {
   "cell_type": "code",
   "execution_count": 1,
   "id": "26eb0218",
   "metadata": {},
   "outputs": [
    {
     "name": "stderr",
     "output_type": "stream",
     "text": [
      "9913344B [05:04, 32584.00B/s]                                                                                          \n",
      "29696B [00:00, 86720.98B/s]                                                                                            \n",
      "1649664B [00:52, 31182.05B/s]                                                                                          \n",
      "5120B [00:00, ?B/s]                                                                                                    \n",
      "[WARNING] ME(11192:15100,MainProcess):2024-05-02-18:22:15.143.209 [mindspore\\dataset\\core\\validator_helpers.py:744] 'Resize' from mindspore.dataset.vision.c_transforms is deprecated from version 1.8 and will be removed in a future version. Use 'Resize' from mindspore.dataset.vision instead.\n",
      "[WARNING] ME(11192:15100,MainProcess):2024-05-02-18:22:15.144.217 [mindspore\\dataset\\core\\validator_helpers.py:744] 'Rescale' from mindspore.dataset.vision.c_transforms is deprecated from version 1.8 and will be removed in a future version. Use 'Rescale' from mindspore.dataset.vision instead.\n",
      "[WARNING] ME(11192:15100,MainProcess):2024-05-02-18:22:15.145.217 [mindspore\\dataset\\core\\validator_helpers.py:744] 'Rescale' from mindspore.dataset.vision.c_transforms is deprecated from version 1.8 and will be removed in a future version. Use 'Rescale' from mindspore.dataset.vision instead.\n",
      "[WARNING] ME(11192:15100,MainProcess):2024-05-02-18:22:15.146.209 [mindspore\\dataset\\core\\validator_helpers.py:744] 'HWC2CHW' from mindspore.dataset.vision.c_transforms is deprecated from version 1.8 and will be removed in a future version. Use 'HWC2CHW' from mindspore.dataset.vision instead.\n",
      "[WARNING] ME(11192:15100,MainProcess):2024-05-02-18:22:15.147.210 [mindspore\\dataset\\core\\validator_helpers.py:744] 'Resize' from mindspore.dataset.vision.c_transforms is deprecated from version 1.8 and will be removed in a future version. Use 'Resize' from mindspore.dataset.vision instead.\n",
      "[WARNING] ME(11192:15100,MainProcess):2024-05-02-18:22:15.148.210 [mindspore\\dataset\\core\\validator_helpers.py:744] 'Rescale' from mindspore.dataset.vision.c_transforms is deprecated from version 1.8 and will be removed in a future version. Use 'Rescale' from mindspore.dataset.vision instead.\n",
      "[WARNING] ME(11192:15100,MainProcess):2024-05-02-18:22:15.149.211 [mindspore\\dataset\\core\\validator_helpers.py:744] 'Rescale' from mindspore.dataset.vision.c_transforms is deprecated from version 1.8 and will be removed in a future version. Use 'Rescale' from mindspore.dataset.vision instead.\n",
      "[WARNING] ME(11192:15100,MainProcess):2024-05-02-18:22:15.149.211 [mindspore\\dataset\\core\\validator_helpers.py:744] 'HWC2CHW' from mindspore.dataset.vision.c_transforms is deprecated from version 1.8 and will be removed in a future version. Use 'HWC2CHW' from mindspore.dataset.vision instead.\n"
     ]
    }
   ],
   "source": [
    "from mindvision.dataset import Mnist\n",
    "\n",
    "# 下载并处理MNIST数据集\n",
    "download_train = Mnist(path=\"./mnist\", split=\"train\", batch_size=32, repeat_num=1, shuffle=True, resize=32, download=True)\n",
    "\n",
    "download_eval = Mnist(path=\"./mnist\", split=\"test\", batch_size=32, resize=32, download=True)\n",
    "\n",
    "dataset_train = download_train.run()\n",
    "dataset_eval = download_eval.run()"
   ]
  },
  {
   "cell_type": "code",
   "execution_count": 2,
   "id": "e5ced0ca",
   "metadata": {},
   "outputs": [],
   "source": [
    "from mindvision.classification.models import lenet\n",
    "\n",
    "network = lenet(num_classes=10, pretrained=False)"
   ]
  },
  {
   "cell_type": "code",
   "execution_count": 3,
   "id": "6aa64641",
   "metadata": {},
   "outputs": [],
   "source": [
    "import mindspore.nn as nn\n",
    "\n",
    "# 定义损失函数\n",
    "net_loss = nn.SoftmaxCrossEntropyWithLogits(sparse=True, reduction='mean')\n",
    "\n",
    "# 定义优化器函数\n",
    "net_opt = nn.Momentum(network.trainable_params(), learning_rate=0.01, momentum=0.9)\n"
   ]
  },
  {
   "cell_type": "code",
   "execution_count": 4,
   "id": "d3706e96",
   "metadata": {},
   "outputs": [],
   "source": [
    "from mindspore.train.callback import ModelCheckpoint, CheckpointConfig\n",
    "\n",
    "# 设置模型保存参数，模型训练保存参数的step为1875\n",
    "config_ck = CheckpointConfig(save_checkpoint_steps=1875, keep_checkpoint_max=10)\n",
    "\n",
    "# 应用模型保存参数\n",
    "ckpoint = ModelCheckpoint(prefix=\"lenet\", directory=\"./lenet\", config=config_ck)\n"
   ]
  },
  {
   "cell_type": "code",
   "execution_count": 5,
   "id": "6042af33",
   "metadata": {},
   "outputs": [
    {
     "name": "stdout",
     "output_type": "stream",
     "text": [
      "Epoch:[  0/ 10], step:[ 1875/ 1875], loss:[0.005/0.490], time:13.987 ms, lr:0.01000\n",
      "Epoch time: 16501.427 ms, per step time: 8.801 ms, avg loss: 0.490\n",
      "Epoch:[  1/ 10], step:[ 1875/ 1875], loss:[0.004/0.057], time:14.065 ms, lr:0.01000\n",
      "Epoch time: 16237.290 ms, per step time: 8.660 ms, avg loss: 0.057\n",
      "Epoch:[  2/ 10], step:[ 1875/ 1875], loss:[0.085/0.040], time:14.879 ms, lr:0.01000\n",
      "Epoch time: 16209.977 ms, per step time: 8.645 ms, avg loss: 0.040\n",
      "Epoch:[  3/ 10], step:[ 1875/ 1875], loss:[0.014/0.032], time:13.919 ms, lr:0.01000\n",
      "Epoch time: 16187.228 ms, per step time: 8.633 ms, avg loss: 0.032\n",
      "Epoch:[  4/ 10], step:[ 1875/ 1875], loss:[0.026/0.024], time:14.138 ms, lr:0.01000\n",
      "Epoch time: 18281.186 ms, per step time: 9.750 ms, avg loss: 0.024\n",
      "Epoch:[  5/ 10], step:[ 1875/ 1875], loss:[0.010/0.022], time:15.257 ms, lr:0.01000\n",
      "Epoch time: 17022.919 ms, per step time: 9.079 ms, avg loss: 0.022\n",
      "Epoch:[  6/ 10], step:[ 1875/ 1875], loss:[0.002/0.018], time:15.302 ms, lr:0.01000\n",
      "Epoch time: 16730.307 ms, per step time: 8.923 ms, avg loss: 0.018\n",
      "Epoch:[  7/ 10], step:[ 1875/ 1875], loss:[0.006/0.016], time:13.792 ms, lr:0.01000\n",
      "Epoch time: 16740.089 ms, per step time: 8.928 ms, avg loss: 0.016\n",
      "Epoch:[  8/ 10], step:[ 1875/ 1875], loss:[0.000/0.012], time:15.809 ms, lr:0.01000\n",
      "Epoch time: 16887.396 ms, per step time: 9.007 ms, avg loss: 0.012\n",
      "Epoch:[  9/ 10], step:[ 1875/ 1875], loss:[0.044/0.014], time:13.293 ms, lr:0.01000\n",
      "Epoch time: 16661.113 ms, per step time: 8.886 ms, avg loss: 0.014\n"
     ]
    }
   ],
   "source": [
    "from mindvision.engine.callback import LossMonitor\n",
    "from mindspore.train import Model\n",
    "\n",
    "# 初始化模型参数\n",
    "model = Model(network, loss_fn=net_loss, optimizer=net_opt, metrics={'accuracy'})\n",
    "\n",
    "# 训练网络模型，并保存为lenet-1_1875.ckpt文件\n",
    "model.train(10, dataset_train, callbacks=[ckpoint, LossMonitor(0.01, 1875)])\n"
   ]
  },
  {
   "cell_type": "code",
   "execution_count": 6,
   "id": "146be81f",
   "metadata": {},
   "outputs": [
    {
     "name": "stdout",
     "output_type": "stream",
     "text": [
      "{'accuracy': 0.9926883012820513}\n"
     ]
    }
   ],
   "source": [
    "acc = model.eval(dataset_eval)\n",
    "\n",
    "print(\"{}\".format(acc))\n"
   ]
  },
  {
   "cell_type": "code",
   "execution_count": 7,
   "id": "303954d5",
   "metadata": {},
   "outputs": [
    {
     "data": {
      "text/plain": [
       "([],\n",
       " ['global_step',\n",
       "  'learning_rate',\n",
       "  'momentum',\n",
       "  'moments.backbone.conv1.weight',\n",
       "  'moments.backbone.conv2.weight',\n",
       "  'moments.backbone.fc1.weight',\n",
       "  'moments.backbone.fc1.bias',\n",
       "  'moments.backbone.fc2.weight',\n",
       "  'moments.backbone.fc2.bias',\n",
       "  'moments.backbone.fc3.weight',\n",
       "  'moments.backbone.fc3.bias'])"
      ]
     },
     "execution_count": 7,
     "metadata": {},
     "output_type": "execute_result"
    }
   ],
   "source": [
    "from mindspore import load_checkpoint, load_param_into_net\n",
    "\n",
    "# 加载已经保存的用于测试的模型\n",
    "param_dict = load_checkpoint(\"./lenet/lenet-1_1875.ckpt\")\n",
    "# 加载参数到网络中\n",
    "load_param_into_net(network, param_dict)\n"
   ]
  },
  {
   "cell_type": "code",
   "execution_count": 8,
   "id": "d44ce39a",
   "metadata": {},
   "outputs": [
    {
     "name": "stderr",
     "output_type": "stream",
     "text": [
      "[WARNING] ME(11192:15100,MainProcess):2024-05-02-18:25:07.682.388 [mindspore\\dataset\\core\\validator_helpers.py:744] 'Resize' from mindspore.dataset.vision.c_transforms is deprecated from version 1.8 and will be removed in a future version. Use 'Resize' from mindspore.dataset.vision instead.\n",
      "[WARNING] ME(11192:15100,MainProcess):2024-05-02-18:25:07.683.399 [mindspore\\dataset\\core\\validator_helpers.py:744] 'Rescale' from mindspore.dataset.vision.c_transforms is deprecated from version 1.8 and will be removed in a future version. Use 'Rescale' from mindspore.dataset.vision instead.\n",
      "[WARNING] ME(11192:15100,MainProcess):2024-05-02-18:25:07.684.407 [mindspore\\dataset\\core\\validator_helpers.py:744] 'Rescale' from mindspore.dataset.vision.c_transforms is deprecated from version 1.8 and will be removed in a future version. Use 'Rescale' from mindspore.dataset.vision instead.\n",
      "[WARNING] ME(11192:15100,MainProcess):2024-05-02-18:25:07.685.395 [mindspore\\dataset\\core\\validator_helpers.py:744] 'HWC2CHW' from mindspore.dataset.vision.c_transforms is deprecated from version 1.8 and will be removed in a future version. Use 'HWC2CHW' from mindspore.dataset.vision instead.\n"
     ]
    },
    {
     "data": {
      "image/png": "[encoded data removed]",
      "text/plain": [
       "<Figure size 640x480 with 6 Axes>"
      ]
     },
     "metadata": {},
     "output_type": "display_data"
    },
    {
     "name": "stdout",
     "output_type": "stream",
     "text": [
      "Predicted: \"[6 6 3 1 0 9]\", Actual: \"[6 6 3 1 0 9]\"\n"
     ]
    }
   ],
   "source": [
    "import numpy as np\n",
    "from mindspore import Tensor\n",
    "import matplotlib.pyplot as plt\n",
    "\n",
    "mnist = Mnist(\"./mnist\", split=\"train\", batch_size=6, resize=32)\n",
    "dataset_infer = mnist.run()\n",
    "ds_test = dataset_infer.create_dict_iterator()\n",
    "data = next(ds_test)\n",
    "images = data[\"image\"].asnumpy()\n",
    "labels = data[\"label\"].asnumpy()\n",
    "\n",
    "plt.figure()\n",
    "for i in range(1, 7):\n",
    "    plt.subplot(2, 3, i)\n",
    "    plt.imshow(images[i-1][0], interpolation=\"None\", cmap=\"gray\")\n",
    "plt.show()\n",
    "\n",
    "# 使用函数model.predict预测image对应分类\n",
    "output = model.predict(Tensor(data['image']))\n",
    "predicted = np.argmax(output.asnumpy(), axis=1)\n",
    "\n",
    "# 输出预测分类与实际分类\n",
    "print(f'Predicted: \"{predicted}\", Actual: \"{labels}\"')\n"
   ]
  },
  {
   "cell_type": "code",
   "execution_count": null,
   "id": "ead602c3",
   "metadata": {},
   "outputs": [],
   "source": []
  }
 ],
 "metadata": {
  "kernelspec": {
   "display_name": "Python [conda env:.conda-mindspore]",
   "language": "python",
   "name": "conda-env-.conda-mindspore-py"
  },
  "language_info": {
   "codemirror_mode": {
    "name": "ipython",
    "version": 3
   },
   "file_extension": ".py",
   "mimetype": "text/x-python",
   "name": "python",
   "nbconvert_exporter": "python",
   "pygments_lexer": "ipython3",
   "version": "3.9.0"
  }
 },
 "nbformat": 4,
 "nbformat_minor": 5
}
