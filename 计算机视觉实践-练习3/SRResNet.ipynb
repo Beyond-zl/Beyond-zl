{
 "cells": [
  {
   "cell_type": "code",
   "execution_count": 1,
   "id": "8cbde5ff",
   "metadata": {},
   "outputs": [
    {
     "ename": "ModuleNotFoundError",
     "evalue": "No module named 'utils'",
     "output_type": "error",
     "traceback": [
      "\u001b[1;31m---------------------------------------------------------------------------\u001b[0m",
      "\u001b[1;31mModuleNotFoundError\u001b[0m                       Traceback (most recent call last)",
      "Cell \u001b[1;32mIn[1], line 1\u001b[0m\n\u001b[1;32m----> 1\u001b[0m \u001b[38;5;28;01mfrom\u001b[39;00m \u001b[38;5;21;01mutils\u001b[39;00m \u001b[38;5;28;01mimport\u001b[39;00m \u001b[38;5;241m*\u001b[39m\n\u001b[0;32m      2\u001b[0m \u001b[38;5;28;01mfrom\u001b[39;00m \u001b[38;5;21;01mtorch\u001b[39;00m \u001b[38;5;28;01mimport\u001b[39;00m nn\n\u001b[0;32m      3\u001b[0m \u001b[38;5;28;01mfrom\u001b[39;00m \u001b[38;5;21;01mmodels\u001b[39;00m \u001b[38;5;28;01mimport\u001b[39;00m SRResNet\n",
      "\u001b[1;31mModuleNotFoundError\u001b[0m: No module named 'utils'"
     ]
    }
   ],
   "source": [
    "from utils import *\n",
    "from torch import nn\n",
    "from models import SRResNet\n",
    "import time\n",
    "from PIL import Image\n",
    " \n",
    "# 测试图像\n",
    "imgPath = './results/test.jpg'\n",
    " \n",
    "# 模型参数\n",
    "large_kernel_size = 9   # 第一层卷积和最后一层卷积的核大小\n",
    "small_kernel_size = 3   # 中间层卷积的核大小\n",
    "n_channels = 64         # 中间层通道数\n",
    "n_blocks = 16           # 残差模块数量\n",
    "scaling_factor = 4      # 放大比例\n",
    "device = torch.device(\"cuda\" if torch.cuda.is_available() else \"cpu\")\n",
    " \n",
    " \n",
    "if __name__ == '__main__':\n",
    " \n",
    "    # 预训练模型\n",
    "    #srgan_checkpoint = \"./results/checkpoint_srgan.pth\"\n",
    "    srresnet_checkpoint = \"./results/checkpoint_srresnet.pth\"\n",
    " \n",
    "    # 加载模型SRResNet 或 SRGAN\n",
    "    checkpoint = torch.load(srresnet_checkpoint)\n",
    "    srresnet = SRResNet(large_kernel_size=large_kernel_size,\n",
    "                        small_kernel_size=small_kernel_size,\n",
    "                        n_channels=n_channels,\n",
    "                        n_blocks=n_blocks,\n",
    "                        scaling_factor=scaling_factor)\n",
    "    srresnet = srresnet.to(device)\n",
    "    srresnet.load_state_dict(checkpoint['model'])\n",
    "   \n",
    "    srresnet.eval()\n",
    "    model = srresnet\n",
    "    # srgan_generator = torch.load(srgan_checkpoint)['generator'].to(device)\n",
    "    # srgan_generator.eval()\n",
    "    # model = srgan_generator\n",
    " \n",
    "    # 加载图像\n",
    "    img = Image.open(imgPath, mode='r')\n",
    "    img = img.convert('RGB')\n",
    " \n",
    "    # 双线性上采样\n",
    "    Bicubic_img = img.resize((int(img.width * scaling_factor),int(img.height * scaling_factor)),Image.BICUBIC)\n",
    "    Bicubic_img.save('./results/test_bicubic.jpg')\n",
    " \n",
    "    # 图像预处理\n",
    "    lr_img = convert_image(img, source='pil', target='imagenet-norm')\n",
    "    lr_img.unsqueeze_(0)\n",
    " \n",
    "    # 记录时间\n",
    "    start = time.time()\n",
    " \n",
    "    # 转移数据至设备\n",
    "    lr_img = lr_img.to(device)  # (1, 3, w, h ), imagenet-normed\n",
    " \n",
    "    # 模型推理\n",
    "    with torch.no_grad():\n",
    "        sr_img = model(lr_img).squeeze(0).cpu().detach()  # (1, 3, w*scale, h*scale), in [-1, 1]   \n",
    "        sr_img = convert_image(sr_img, source='[-1, 1]', target='pil')\n",
    "        sr_img.save('./results/test_srres.jpg')\n",
    " \n",
    "    print('用时  {:.3f} 秒'.format(time.time()-start))\n",
    " "
   ]
  },
  {
   "cell_type": "code",
   "execution_count": null,
   "id": "d97c59d4",
   "metadata": {},
   "outputs": [],
   "source": []
  }
 ],
 "metadata": {
  "kernelspec": {
   "display_name": "Python 3 (ipykernel)",
   "language": "python",
   "name": "python3"
  },
  "language_info": {
   "codemirror_mode": {
    "name": "ipython",
    "version": 3
   },
   "file_extension": ".py",
   "mimetype": "text/x-python",
   "name": "python",
   "nbconvert_exporter": "python",
   "pygments_lexer": "ipython3",
   "version": "3.11.4"
  }
 },
 "nbformat": 4,
 "nbformat_minor": 5
}
