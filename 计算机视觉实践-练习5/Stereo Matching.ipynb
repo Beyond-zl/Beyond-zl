{
 "cells": [
  {
   "cell_type": "code",
   "execution_count": null,
   "id": "94d79cf8",
   "metadata": {},
   "outputs": [],
   "source": [
    "import numpy as np\n",
    "import cv2\n",
    "\n",
    "#使用普通摄像头进行深度估计\n",
    "def update(val=0):\n",
    "    #为“aloe”图像对调整视差范围\n",
    "    stereo.setBlockSize(cv2.getTrackbarPos('window_size','disparity'))\n",
    "    stereo.setUniquenessRatio(cv2.getTrackbarPos('uniquenessRatio','disparity'))\n",
    "    stereo.setSpeckleWindowSize(cv2.getTrackbarPos('speckleWindowSize','disparity'))\n",
    "    stereo.setSpeckleRange(cv2.getTrackbarPos('speckleRange','disparity'))\n",
    "    stereo.setDisp12MaxDiff(cv2.getTrackbarPos('disp12MaxDiff','disparity'))\n",
    "\n",
    "    print('computing disparity')\n",
    "    disp = stereo.compute(imgL,imgR).astype(np.float32)/16.0\n",
    "\n",
    "    cv2.imshow('left',imgL)\n",
    "    cv2.imshow('right',imgR)\n",
    "    cv2.imshow('disparity',(disp-min_disp)/num_disp)\n",
    "\n",
    "if __name__ == \"__main__\":\n",
    "    window_size =5\n",
    "    min_disp =16\n",
    "    num_disp =192-min_disp\n",
    "    blockSize = window_size\n",
    "    uniquenessRatio = 1\n",
    "    speckleRange = 3\n",
    "    speckleWindowSize =3\n",
    "    disp12MaxDiff =200\n",
    "    P1 = 600\n",
    "    P2 = 2400\n",
    "    imgL = cv2.imread(\"D://github//testgit//111(1).jpg\") \n",
    "    imgR = cv2.imread(\"D://github//testgit//222(1).jpg\")\n",
    "    cv2.namedWindow('disparity')\n",
    "    cv2.createTrackbar('speckleRange','disparity',speckleRange,50,update)\n",
    "    cv2.createTrackbar('window_size','disparity',window_size,21,update)\n",
    "    cv2.createTrackbar('speckleWindowSize','disparity',speckleWindowSize,200,update)\n",
    "    cv2.createTrackbar('uniquenessRatio','disparity',uniquenessRatio,50,update)\n",
    "    cv2.createTrackbar('disp12MaxDiff','disparity',disp12MaxDiff,250,update)\n",
    "    # 创建一个StereoSGBM实例\n",
    "    stereo =cv2.StereoSGBM_create(\n",
    "        minDisparity = min_disp,\n",
    "        numDisparities=num_disp,\n",
    "        blockSize = window_size,\n",
    "        uniquenessRatio = uniquenessRatio,\n",
    "        speckleRange = speckleRange,\n",
    "        speckleWindowSize = speckleWindowSize,\n",
    "        disp12MaxDiff = disp12MaxDiff,\n",
    "        P1 = P1,\n",
    "        P2 = P2\n",
    "    )\n",
    "    update()\n",
    "    cv2.waitKey()"
   ]
  },
  {
   "cell_type": "code",
   "execution_count": null,
   "id": "72b5cd9e",
   "metadata": {},
   "outputs": [],
   "source": []
  }
 ],
 "metadata": {
  "kernelspec": {
   "display_name": "Python 3 (ipykernel)",
   "language": "python",
   "name": "python3"
  },
  "language_info": {
   "codemirror_mode": {
    "name": "ipython",
    "version": 3
   },
   "file_extension": ".py",
   "mimetype": "text/x-python",
   "name": "python",
   "nbconvert_exporter": "python",
   "pygments_lexer": "ipython3",
   "version": "3.11.4"
  }
 },
 "nbformat": 4,
 "nbformat_minor": 5
}
